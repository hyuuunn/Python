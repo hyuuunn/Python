{
 "cells": [
  {
   "cell_type": "markdown",
   "id": "bf29f72b",
   "metadata": {},
   "source": [
    "## 조건문\n",
    "### if"
   ]
  },
  {
   "cell_type": "code",
   "execution_count": 1,
   "id": "c410f56e",
   "metadata": {},
   "outputs": [
    {
     "name": "stdout",
     "output_type": "stream",
     "text": [
      "Please enter an integer: 4\n",
      "양수\n"
     ]
    }
   ],
   "source": [
    "# 숫자를 입력받아 음수와 양수 여부를 출력\n",
    "x = int(input(\"Please enter an integer: \"))\n",
    "\n",
    "if x>0 :\n",
    "    print(\"양수\")\n",
    "elif x==0:\n",
    "    print(\"0\")\n",
    "else :\n",
    "    print(\"음수\")"
   ]
  },
  {
   "cell_type": "markdown",
   "id": "2595ef95",
   "metadata": {},
   "source": [
    "## 반복문\n",
    "### for"
   ]
  },
  {
   "cell_type": "code",
   "execution_count": 3,
   "id": "f0386ade",
   "metadata": {},
   "outputs": [
    {
     "name": "stdout",
     "output_type": "stream",
     "text": [
      "a\n",
      "b\n",
      "c\n",
      "d\n"
     ]
    }
   ],
   "source": [
    "# 리스트 안에 있는 값을 순회하며 반복문으로 출력\n",
    "words = ['a', 'b', 'c', 'd']\n",
    "\n",
    "for a in words:\n",
    "    print(a)"
   ]
  },
  {
   "cell_type": "markdown",
   "id": "b0175046",
   "metadata": {},
   "source": [
    "### range() 함수"
   ]
  },
  {
   "cell_type": "code",
   "execution_count": 4,
   "id": "a141ef80",
   "metadata": {},
   "outputs": [
    {
     "name": "stdout",
     "output_type": "stream",
     "text": [
      "0\n",
      "1\n",
      "2\n",
      "3\n",
      "4\n"
     ]
    }
   ],
   "source": [
    "# range로 범위를 지정해 반복문을 수행\n",
    "# 데이터 수집할 때 많이 씀\n",
    "for i in range(5):\n",
    "    print(i)"
   ]
  },
  {
   "cell_type": "code",
   "execution_count": 5,
   "id": "1ddd06da",
   "metadata": {},
   "outputs": [
    {
     "name": "stdout",
     "output_type": "stream",
     "text": [
      "1\n",
      "2\n",
      "3\n",
      "4\n"
     ]
    }
   ],
   "source": [
    "for i in range(1,5):\n",
    "    print(i)"
   ]
  },
  {
   "cell_type": "code",
   "execution_count": 6,
   "id": "8aca06a7",
   "metadata": {},
   "outputs": [
    {
     "name": "stdout",
     "output_type": "stream",
     "text": [
      "1\n",
      "3\n",
      "5\n",
      "7\n",
      "9\n"
     ]
    }
   ],
   "source": [
    "#2씩 건너뛰면서 확인\n",
    "for i in range(1,10,2):\n",
    "    print(i)"
   ]
  },
  {
   "cell_type": "code",
   "execution_count": 7,
   "id": "7f6ac4eb",
   "metadata": {},
   "outputs": [
    {
     "name": "stdout",
     "output_type": "stream",
     "text": [
      "0 I\n",
      "1 have\n",
      "2 a\n",
      "3 little\n",
      "4 lamb\n"
     ]
    }
   ],
   "source": [
    "# 리스트를 변수로 받아 순회\n",
    "# 리스트의 길이만큼 range 값을 생성하여 순회\n",
    "a = ['I', 'have', 'a', 'little', 'lamb']\n",
    "for i in range(len(a)):\n",
    "    print(i, a[i])"
   ]
  },
  {
   "cell_type": "code",
   "execution_count": 8,
   "id": "db5c0cc4",
   "metadata": {},
   "outputs": [
    {
     "name": "stdout",
     "output_type": "stream",
     "text": [
      "0 I\n",
      "1 have\n",
      "2 a\n",
      "3 little\n",
      "4 lamb\n"
     ]
    }
   ],
   "source": [
    "# enumerate 를 사용하면 인덱스 번호와 값을 함께 가져옴\n",
    "for i, val in enumerate(a):\n",
    "    print(i, val)"
   ]
  },
  {
   "cell_type": "markdown",
   "id": "5058bf49",
   "metadata": {},
   "source": [
    "### range 응용"
   ]
  },
  {
   "cell_type": "code",
   "execution_count": 9,
   "id": "b50bdcaa",
   "metadata": {},
   "outputs": [
    {
     "data": {
      "text/plain": [
       "6"
      ]
     },
     "execution_count": 9,
     "metadata": {},
     "output_type": "execute_result"
    }
   ],
   "source": [
    "# 합계 구하기\n",
    "# 0 + 1 + 2 + 3 를 range와 sum을 사용해 구하기\n",
    "\n",
    "sum(range(4))"
   ]
  },
  {
   "cell_type": "code",
   "execution_count": 10,
   "id": "aa7890c4",
   "metadata": {},
   "outputs": [
    {
     "data": {
      "text/plain": [
       "[0, 1, 2, 3]"
      ]
     },
     "execution_count": 10,
     "metadata": {},
     "output_type": "execute_result"
    }
   ],
   "source": [
    "# 리스트로 만들기\n",
    "# list를 사용해 [0, 1, 2, 3] 리스트를 생성\n",
    "list(range(4))"
   ]
  },
  {
   "cell_type": "markdown",
   "id": "38737830",
   "metadata": {},
   "source": [
    "### 조건문과 반복문 함께 사용"
   ]
  },
  {
   "cell_type": "code",
   "execution_count": 11,
   "id": "a9365660",
   "metadata": {},
   "outputs": [
    {
     "data": {
      "text/plain": [
       "0"
      ]
     },
     "execution_count": 11,
     "metadata": {},
     "output_type": "execute_result"
    }
   ],
   "source": [
    "#2로 나눠 나머지가 0 이면 짝수\n",
    "4%2"
   ]
  },
  {
   "cell_type": "code",
   "execution_count": 12,
   "id": "53e38be4",
   "metadata": {},
   "outputs": [
    {
     "data": {
      "text/plain": [
       "1"
      ]
     },
     "execution_count": 12,
     "metadata": {},
     "output_type": "execute_result"
    }
   ],
   "source": [
    "#2로 나눠 나머지가 1 이면 홀수\n",
    "5%2"
   ]
  },
  {
   "cell_type": "code",
   "execution_count": 13,
   "id": "2b5c3eb1",
   "metadata": {},
   "outputs": [
    {
     "name": "stdout",
     "output_type": "stream",
     "text": [
      "홀수\n",
      "짝수\n",
      "홀수\n",
      "짝수\n",
      "홀수\n",
      "짝수\n",
      "홀수\n",
      "짝수\n",
      "홀수\n",
      "짝수\n"
     ]
    }
   ],
   "source": [
    "# range로 값을 순회하며 짝수일 때는 \"짝수\"를 홀수일 때는 \"홀수\"를 출력\n",
    "for i in range(1,11):\n",
    "    if i%2==0:\n",
    "        print(\"짝수\")\n",
    "    else:\n",
    "        print(\"홀수\")"
   ]
  },
  {
   "cell_type": "code",
   "execution_count": 14,
   "id": "8e841b0f",
   "metadata": {},
   "outputs": [
    {
     "name": "stdout",
     "output_type": "stream",
     "text": [
      "1 홀수\n",
      "2 짝수\n",
      "3 홀수\n",
      "4 짝수\n",
      "5 홀수\n",
      "6 짝수\n",
      "7 홀수\n",
      "8 짝수\n",
      "9 홀수\n",
      "10 짝수\n"
     ]
    }
   ],
   "source": [
    "for i in range(1,11):\n",
    "    if i%2==0:\n",
    "        print(i,\"짝수\")\n",
    "    else:\n",
    "        print(i,\"홀수\")"
   ]
  },
  {
   "cell_type": "markdown",
   "id": "154e530a",
   "metadata": {},
   "source": [
    "### While 문"
   ]
  },
  {
   "cell_type": "code",
   "execution_count": 17,
   "id": "5fc98bea",
   "metadata": {},
   "outputs": [
    {
     "name": "stdout",
     "output_type": "stream",
     "text": [
      "1\n",
      "2\n",
      "3\n",
      "4\n",
      "5\n"
     ]
    }
   ],
   "source": [
    "# 변수의 초깃값을 부여하고 특정 변수값이 되면 종료\n",
    "n = 0\n",
    "while True:\n",
    "    n = n+1\n",
    "    print(n)\n",
    "    if n == 5:\n",
    "        break"
   ]
  },
  {
   "cell_type": "markdown",
   "id": "db7b5b78",
   "metadata": {},
   "source": [
    "## 함수"
   ]
  },
  {
   "cell_type": "code",
   "execution_count": 18,
   "id": "1feefdfe",
   "metadata": {},
   "outputs": [
    {
     "data": {
      "text/plain": [
       "17.285714285714285"
      ]
     },
     "execution_count": 18,
     "metadata": {},
     "output_type": "execute_result"
    }
   ],
   "source": [
    "# 평균을 구하는 average 함수 생성\n",
    "# def == define\n",
    "def average(num):\n",
    "    avg = sum(num)/len(num)\n",
    "    return avg\n",
    "\n",
    "average([1,2,3,4,5,6,100])"
   ]
  },
  {
   "cell_type": "markdown",
   "id": "e6da460e",
   "metadata": {},
   "source": [
    "### sum 함수 for 문으로 구현"
   ]
  },
  {
   "cell_type": "code",
   "execution_count": 21,
   "id": "f2ae41d6",
   "metadata": {},
   "outputs": [],
   "source": [
    "# 함수명은 total_sum 으로 매개변수는 num 이 되도록 구현\n",
    "def total_sum(num):\n",
    "    n_sum = 0\n",
    "    for n in num:\n",
    "        n_sum = n_sum + n\n",
    "    return n_sum"
   ]
  },
  {
   "cell_type": "code",
   "execution_count": 22,
   "id": "df06c36d",
   "metadata": {},
   "outputs": [
    {
     "data": {
      "text/plain": [
       "10"
      ]
     },
     "execution_count": 22,
     "metadata": {},
     "output_type": "execute_result"
    }
   ],
   "source": [
    "num = [1,2,3,4]\n",
    "total_sum(num)"
   ]
  },
  {
   "cell_type": "code",
   "execution_count": null,
   "id": "4b8e9f0e",
   "metadata": {},
   "outputs": [],
   "source": []
  }
 ],
 "metadata": {
  "kernelspec": {
   "display_name": "Python 3",
   "language": "python",
   "name": "python3"
  },
  "language_info": {
   "codemirror_mode": {
    "name": "ipython",
    "version": 3
   },
   "file_extension": ".py",
   "mimetype": "text/x-python",
   "name": "python",
   "nbconvert_exporter": "python",
   "pygments_lexer": "ipython3",
   "version": "3.8.8"
  },
  "toc": {
   "base_numbering": 1,
   "nav_menu": {},
   "number_sections": true,
   "sideBar": true,
   "skip_h1_title": false,
   "title_cell": "Table of Contents",
   "title_sidebar": "Contents",
   "toc_cell": false,
   "toc_position": {},
   "toc_section_display": true,
   "toc_window_display": false
  },
  "varInspector": {
   "cols": {
    "lenName": 16,
    "lenType": 16,
    "lenVar": 40
   },
   "kernels_config": {
    "python": {
     "delete_cmd_postfix": "",
     "delete_cmd_prefix": "del ",
     "library": "var_list.py",
     "varRefreshCmd": "print(var_dic_list())"
    },
    "r": {
     "delete_cmd_postfix": ") ",
     "delete_cmd_prefix": "rm(",
     "library": "var_list.r",
     "varRefreshCmd": "cat(var_dic_list()) "
    }
   },
   "types_to_exclude": [
    "module",
    "function",
    "builtin_function_or_method",
    "instance",
    "_Feature"
   ],
   "window_display": false
  }
 },
 "nbformat": 4,
 "nbformat_minor": 5
}
