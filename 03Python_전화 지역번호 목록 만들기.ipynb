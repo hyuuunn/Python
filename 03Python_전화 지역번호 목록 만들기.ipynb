{
 "cells": [
  {
   "cell_type": "markdown",
   "id": "a3dec323",
   "metadata": {},
   "source": [
    "**딕셔너리의 결과가 아래와 같이 나오도록 아래의 문자열을 변경**\n",
    "```\n",
    "{'경기': '031',\n",
    "'강원': '033',\n",
    "'충남': '041',\n",
    "'충북': '043',\n",
    "'경북': '054',\n",
    "'경남': '055',\n",
    "'전남': '061',\n",
    "'전북': '063'}\n",
    "```"
   ]
  },
  {
   "cell_type": "code",
   "execution_count": 4,
   "id": "1ab892f9",
   "metadata": {},
   "outputs": [
    {
     "data": {
      "text/plain": [
       "['',\n",
       " '경기 031 ',\n",
       " '강원 033 ',\n",
       " '충남 041 ',\n",
       " '충북 043 ',\n",
       " '경북 054 ',\n",
       " '경남 055 ',\n",
       " '전남 061 ',\n",
       " '전북 063']"
      ]
     },
     "execution_count": 4,
     "metadata": {},
     "output_type": "execute_result"
    }
   ],
   "source": [
    "phone = \">경기 031 >강원 033 >충남 041 >충북 043 >경북 054 >경남 055 >전남 061 >전북 063\"\n",
    "\n",
    "phone.split(\">\")"
   ]
  },
  {
   "cell_type": "code",
   "execution_count": 5,
   "id": "34aeca00",
   "metadata": {},
   "outputs": [
    {
     "data": {
      "text/plain": [
       "['전북', '063']"
      ]
     },
     "execution_count": 5,
     "metadata": {},
     "output_type": "execute_result"
    }
   ],
   "source": [
    "for ph in phone.split(\">\"):\n",
    "    ph_split = ph.split()\n",
    "ph_split"
   ]
  },
  {
   "cell_type": "code",
   "execution_count": 7,
   "id": "edeb0c8f",
   "metadata": {},
   "outputs": [
    {
     "data": {
      "text/plain": [
       "{'경기': '031',\n",
       " '강원': '033',\n",
       " '충남': '041',\n",
       " '충북': '043',\n",
       " '경북': '054',\n",
       " '경남': '055',\n",
       " '전남': '061',\n",
       " '전북': '063'}"
      ]
     },
     "execution_count": 7,
     "metadata": {},
     "output_type": "execute_result"
    }
   ],
   "source": [
    "ph_dict = {}\n",
    "\n",
    "for ph in phone.split(\">\"):\n",
    "    ph_split = ph.split()\n",
    "    if ph_split != []:\n",
    "        key = ph_split[0]\n",
    "        val = ph_split[1]\n",
    "        ph_dict[key]=val\n",
    "ph_dict"
   ]
  },
  {
   "cell_type": "code",
   "execution_count": 8,
   "id": "91106bf2",
   "metadata": {},
   "outputs": [
    {
     "data": {
      "text/plain": [
       "{'경기': '031',\n",
       " '강원': '033',\n",
       " '충남': '041',\n",
       " '충북': '043',\n",
       " '경북': '054',\n",
       " '경남': '055',\n",
       " '전남': '061',\n",
       " '전북': '063'}"
      ]
     },
     "execution_count": 8,
     "metadata": {},
     "output_type": "execute_result"
    }
   ],
   "source": [
    "ph_dict={}\n",
    "\n",
    "for ph in phone.split(\">\"):\n",
    "    ph_split=ph.split()\n",
    "    if ph_split == []:\n",
    "        pass\n",
    "    else:\n",
    "        key = ph_split[0]\n",
    "        val = ph_split[1]\n",
    "        ph_dict[key]=val\n",
    "ph_dict"
   ]
  },
  {
   "cell_type": "markdown",
   "id": "c99a4048",
   "metadata": {},
   "source": [
    "**구구단 출력**"
   ]
  },
  {
   "cell_type": "code",
   "execution_count": 11,
   "id": "2236e788",
   "metadata": {},
   "outputs": [
    {
     "name": "stdout",
     "output_type": "stream",
     "text": [
      "1x1=1\n",
      "1x2=2\n",
      "1x3=3\n",
      "1x4=4\n",
      "----\n",
      "2x1=2\n",
      "2x2=4\n",
      "2x3=6\n",
      "2x4=8\n",
      "----\n",
      "3x1=3\n",
      "3x2=6\n",
      "3x3=9\n",
      "3x4=12\n",
      "----\n",
      "4x1=4\n",
      "4x2=8\n",
      "4x3=12\n",
      "4x4=16\n",
      "----\n"
     ]
    }
   ],
   "source": [
    "def gugu(a,b):\n",
    "    return a*b\n",
    "\n",
    "num = [1,2,3,4]\n",
    "for a in num:\n",
    "    for b in num:\n",
    "        say = f\"{a}x{b}={gugu(a,b)}\"\n",
    "        print(say)\n",
    "    print(\"----\")"
   ]
  },
  {
   "cell_type": "code",
   "execution_count": 12,
   "id": "77d4f588",
   "metadata": {},
   "outputs": [
    {
     "name": "stdout",
     "output_type": "stream",
     "text": [
      "1x1=1\n",
      "1x2=2\n",
      "1x3=3\n",
      "1x4=4\n",
      "----\n",
      "2x1=2\n",
      "2x2=4\n",
      "2x3=6\n",
      "2x4=8\n",
      "----\n",
      "3x1=3\n",
      "3x2=6\n",
      "3x3=9\n",
      "3x4=12\n",
      "----\n",
      "4x1=4\n",
      "4x2=8\n",
      "4x3=12\n",
      "4x4=16\n",
      "----\n"
     ]
    }
   ],
   "source": [
    "num = [1,2,3,4]\n",
    "for a in num:\n",
    "    for b in num:\n",
    "        say = f\"{a}x{b}={a*b}\"\n",
    "        print(say)\n",
    "    print(\"----\")"
   ]
  },
  {
   "cell_type": "markdown",
   "id": "f9596baf",
   "metadata": {},
   "source": [
    "**숫자 1개 입력받아 1~N까지의 합 구하기**"
   ]
  },
  {
   "cell_type": "code",
   "execution_count": 13,
   "id": "c74c4a22",
   "metadata": {},
   "outputs": [
    {
     "name": "stdout",
     "output_type": "stream",
     "text": [
      "Please enter a number:10\n",
      "55\n"
     ]
    }
   ],
   "source": [
    "x=int(input(\"Please enter a number:\"))\n",
    "q = 0\n",
    "for n in range(1,x+1):\n",
    "    q = q + n\n",
    "print(q)"
   ]
  },
  {
   "cell_type": "markdown",
   "id": "3cc22188",
   "metadata": {},
   "source": [
    "**출생년도 입력 => 현재나이**"
   ]
  },
  {
   "cell_type": "code",
   "execution_count": 14,
   "id": "e96a15af",
   "metadata": {},
   "outputs": [
    {
     "name": "stdout",
     "output_type": "stream",
     "text": [
      "출생년도:1996\n",
      "27\n"
     ]
    }
   ],
   "source": [
    "x=int(input(\"출생년도:\"))\n",
    "num=2023-x\n",
    "print(num)"
   ]
  },
  {
   "cell_type": "markdown",
   "id": "4d8be5c7",
   "metadata": {},
   "source": [
    "**숫자 n개 입력받아서 1등*3등+2등=?**"
   ]
  },
  {
   "cell_type": "code",
   "execution_count": 16,
   "id": "d64f932c",
   "metadata": {},
   "outputs": [
    {
     "name": "stdout",
     "output_type": "stream",
     "text": [
      "숫자를 띄어쓰기로 입력하세요:5 3 4 1 2\n",
      "['5', '3', '4', '1', '2']\n",
      "19\n"
     ]
    }
   ],
   "source": [
    "num = input(\"숫자를 띄어쓰기로 입력하세요:\")\n",
    "num_list = num.split()\n",
    "print(num_list)\n",
    "a = sorted(num_list)\n",
    "b = int(a[-1])*int(a[-3])+int(a[-2])\n",
    "print(b)"
   ]
  },
  {
   "cell_type": "code",
   "execution_count": 17,
   "id": "bfafddf7",
   "metadata": {},
   "outputs": [
    {
     "name": "stdout",
     "output_type": "stream",
     "text": [
      "숫자 세개를 띄어쓰기로 입력하세요:3 3 1\n",
      "['3', '3', '1']\n",
      "6\n"
     ]
    }
   ],
   "source": [
    "num = input(\"숫자 세개를 띄어쓰기로 입력하세요:\")\n",
    "num_list = num.split()\n",
    "print(num_list)\n",
    "a1 = int(num_list[0])\n",
    "a2 = int(num_list[1])\n",
    "a3 = int(num_list[2])\n",
    "if a1 <= a2 and a1 <= a3:\n",
    "    if a2 <= a3:\n",
    "        n = a1*a3+a2\n",
    "    else:\n",
    "        n = a1*a2+a3\n",
    "elif a2 <= a1 and a2 <= a3:\n",
    "    if a1 <= a3:\n",
    "        n = a2*a3+a2\n",
    "    else:\n",
    "        n = a2*a1+a3\n",
    "else:\n",
    "    if a1 <= a2:\n",
    "        n = a3*a2+a1\n",
    "    else:\n",
    "        n = a3*a1+a2\n",
    "print(n)"
   ]
  },
  {
   "cell_type": "code",
   "execution_count": 18,
   "id": "6f641012",
   "metadata": {},
   "outputs": [
    {
     "name": "stdout",
     "output_type": "stream",
     "text": [
      "시작 숫자 입력:11\n",
      "끝 숫자 입력:21\n",
      "0~9중 하나 입력:1\n",
      "[11, 12, 13, 14, 15, 16, 17, 18, 19, 20, 21]\n",
      "11\n"
     ]
    }
   ],
   "source": [
    "n1 = int(input(\"시작 숫자 입력:\"))\n",
    "n2 = int(input(\"끝 숫자 입력:\"))\n",
    "n3 = input(\"0~9중 하나 입력:\")\n",
    "\n",
    "i_list=[]\n",
    "for i in range(n1,n2+1):\n",
    "    i_list.append(i)\n",
    "print(i_list)\n",
    "\n",
    "sum1=0\n",
    "\n",
    "for a in i_list:\n",
    "    a1=str(a)[0:1]\n",
    "    a2=str(a)[1:2]\n",
    "    if a1 == n3:\n",
    "        sum1 += 1\n",
    "    if a2 == n3:\n",
    "        sum1 += 1\n",
    "    \n",
    "print(sum1)"
   ]
  },
  {
   "cell_type": "code",
   "execution_count": null,
   "id": "7ffe645f",
   "metadata": {},
   "outputs": [],
   "source": []
  }
 ],
 "metadata": {
  "kernelspec": {
   "display_name": "Python 3",
   "language": "python",
   "name": "python3"
  },
  "language_info": {
   "codemirror_mode": {
    "name": "ipython",
    "version": 3
   },
   "file_extension": ".py",
   "mimetype": "text/x-python",
   "name": "python",
   "nbconvert_exporter": "python",
   "pygments_lexer": "ipython3",
   "version": "3.8.8"
  },
  "toc": {
   "base_numbering": 1,
   "nav_menu": {},
   "number_sections": true,
   "sideBar": true,
   "skip_h1_title": false,
   "title_cell": "Table of Contents",
   "title_sidebar": "Contents",
   "toc_cell": false,
   "toc_position": {},
   "toc_section_display": true,
   "toc_window_display": false
  },
  "varInspector": {
   "cols": {
    "lenName": 16,
    "lenType": 16,
    "lenVar": 40
   },
   "kernels_config": {
    "python": {
     "delete_cmd_postfix": "",
     "delete_cmd_prefix": "del ",
     "library": "var_list.py",
     "varRefreshCmd": "print(var_dic_list())"
    },
    "r": {
     "delete_cmd_postfix": ") ",
     "delete_cmd_prefix": "rm(",
     "library": "var_list.r",
     "varRefreshCmd": "cat(var_dic_list()) "
    }
   },
   "types_to_exclude": [
    "module",
    "function",
    "builtin_function_or_method",
    "instance",
    "_Feature"
   ],
   "window_display": false
  }
 },
 "nbformat": 4,
 "nbformat_minor": 5
}
